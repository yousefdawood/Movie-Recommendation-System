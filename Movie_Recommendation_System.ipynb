{
 "cells": [
  {
   "cell_type": "code",
   "execution_count": 1,
   "metadata": {},
   "outputs": [],
   "source": [
    "from pyspark.sql import SparkSession\n",
    "import pandas as pd\n",
    "from pyspark.mllib.linalg.distributed import RowMatrix,CoordinateMatrix\n",
    "from pyspark.sql.types import IntegerType, DoubleType\n",
    "from pyspark.sql.functions import broadcast, col, array, udf\n",
    "from pyspark.sql import functions as F, SQLContext\n",
    "import numpy as np\n",
    "from operator import mul\n",
    "import math"
   ]
  },
  {
   "cell_type": "code",
   "execution_count": 2,
   "metadata": {},
   "outputs": [],
   "source": [
    "from pyspark import SparkConf, SparkContext\n",
    "sc = SparkContext(conf=SparkConf().setAppName(\"MyApp\").setMaster(\"local[2]\"))"
   ]
  },
  {
   "cell_type": "code",
   "execution_count": 3,
   "metadata": {},
   "outputs": [],
   "source": [
    "sqlContext = SQLContext(sc)"
   ]
  },
  {
   "cell_type": "code",
   "execution_count": 4,
   "metadata": {},
   "outputs": [],
   "source": [
    "import matplotlib.pyplot as plt"
   ]
  },
  {
   "cell_type": "code",
   "execution_count": 5,
   "metadata": {},
   "outputs": [],
   "source": [
    "spark = SparkSession.builder.appName(\"tSalesItem\").enableHiveSupport().getOrCreate()"
   ]
  },
  {
   "cell_type": "code",
   "execution_count": 6,
   "metadata": {},
   "outputs": [],
   "source": [
    "movies = spark.read.csv('movies.csv',header=True)\n",
    "actors = spark.read.csv('movie_actors.csv',header=True)\n",
    "countries = spark.read.csv('movie_countries.csv',header=True)\n",
    "directors = spark.read.csv('movie_directors.csv',header=True)\n",
    "genres = spark.read.csv('movie_genres.csv',header=True)\n",
    "ratings = spark.read.csv('user_ratedmovies-timestamps.csv',header=True)"
   ]
  },
  {
   "cell_type": "code",
   "execution_count": 7,
   "metadata": {},
   "outputs": [],
   "source": [
    "genres = genres.groupBy(genres.movieID).agg(F.collect_list('genre').alias('genre'))"
   ]
  },
  {
   "cell_type": "code",
   "execution_count": 8,
   "metadata": {},
   "outputs": [],
   "source": [
    "movies = movies.dropDuplicates(['title'])"
   ]
  },
  {
   "cell_type": "code",
   "execution_count": 9,
   "metadata": {},
   "outputs": [],
   "source": [
    "# plt.plot(movies.id, movies.rtAudienceNumRatings)\n",
    "# movies.plot(x='id', y='rtAudienceNumRatings')\n",
    "movies = movies.filter(movies.rtAudienceNumRatings > 1800)\n",
    "movies = movies.filter(movies.rtAllCriticsNumReviews > 150)\n",
    "movieIds = movies.select(\"id\")"
   ]
  },
  {
   "cell_type": "code",
   "execution_count": 10,
   "metadata": {},
   "outputs": [],
   "source": [
    "actors = actors.join(movieIds, actors.movieID == movieIds.id, how='inner').drop('id')\n",
    "countries = countries.join(movieIds, countries.movieID == movieIds.id, how='inner').drop('id')\n",
    "directors = directors.join(movieIds, directors.movieID == movieIds.id, how='inner').drop('id')\n",
    "genres = genres.join(movieIds, genres.movieID == movieIds.id, how='inner').drop('id')\n",
    "ratings = ratings.join(movieIds, ratings.movieID == movieIds.id, how='inner').drop('id')"
   ]
  },
  {
   "cell_type": "code",
   "execution_count": 11,
   "metadata": {},
   "outputs": [],
   "source": [
    "movies = movies.select(\"id\", \"title\", \"year\", \"rtAllCriticsRating\"\\\n",
    "                       , \"rtTopCriticsRating\", \"rtAudienceRating\")\n"
   ]
  },
  {
   "cell_type": "code",
   "execution_count": 12,
   "metadata": {},
   "outputs": [],
   "source": [
    "temp_movies_ids = movies[[\"id\",\"id\"]].toPandas().copy()\n",
    "temp_movies_ids.columns = ['id1', 'id2']\n",
    "temp_movies_ids['val'] = 0.0\n",
    "temp_movies_ids = spark.createDataFrame(temp_movies_ids)\n",
    "\n",
    "temp_movies_ids = temp_movies_ids.withColumn(\"id1\", temp_movies_ids[\"id1\"].cast(IntegerType()))\n",
    "temp_movies_ids = temp_movies_ids.withColumn(\"id2\", temp_movies_ids[\"id2\"].cast(IntegerType()))\n",
    "\n",
    "temp_movies_id1 = temp_movies_ids.select(col('id1'), col('val').alias('val1'))\n",
    "temp_movies_id2 = temp_movies_ids.select('id2', 'val')\n",
    "\n",
    "# temp_movies_id1.columns = ['id']\n",
    "# temp_movies_id2 = temp_movies_ids['id2']\n",
    "# # temp_movies_id2.columns = ['id']\n",
    "# # temp_movies_id1 = spark.createDataFrame(temp_movies_id1)\n",
    "# # temp_movies_id2 = spark.createDataFrame(temp_movies_id2)\n",
    "result = temp_movies_id1.crossJoin(temp_movies_id2)\n",
    "\n",
    "# result = broadcast(temp_movies_id1).crossJoin(temp_movies_id2)\n",
    "# # pd.merge(temp_movies_id1, temp_movies_id2, how=\"cross\")\n",
    "\n",
    "# temp_movies_ids = spark.createDataFrame(temp_movies_ids)"
   ]
  },
  {
   "cell_type": "code",
   "execution_count": 13,
   "metadata": {},
   "outputs": [],
   "source": [
    "\n",
    "result = result.select('id1', 'id2', 'val')\n",
    "# result = result.select(col('id1'), col('id2'), col('val').alias('val1'))"
   ]
  },
  {
   "cell_type": "code",
   "execution_count": 14,
   "metadata": {},
   "outputs": [],
   "source": [
    "result = result.filter(result.id2 > result.id1)"
   ]
  },
  {
   "cell_type": "code",
   "execution_count": 15,
   "metadata": {},
   "outputs": [],
   "source": [
    "result = result.join(genres, result.id1 == genres.movieID, how='left')\\\n",
    ".withColumnRenamed(\"genre\", \"g1\")\n",
    "result = result.drop(result.movieID)\n",
    "result = result.join(genres, result.id2 == genres.movieID, how='left')\\\n",
    ".withColumnRenamed(\"genre\", \"g2\")\n",
    "result = result.drop(result.movieID)"
   ]
  },
  {
   "cell_type": "code",
   "execution_count": 16,
   "metadata": {},
   "outputs": [
    {
     "name": "stdout",
     "output_type": "stream",
     "text": [
      "+----+----+---+--------------------+--------------------+\n",
      "| id1| id2|val|                  g1|                  g2|\n",
      "+----+----+---+--------------------+--------------------+\n",
      "|1483|2366|0.0|   [Drama, Thriller]|[Action, Adventur...|\n",
      "|1133|2366|0.0|     [Comedy, Drama]|[Action, Adventur...|\n",
      "|1889|2366|0.0|[Crime, Mystery, ...|[Action, Adventur...|\n",
      "|2323|2366|0.0|       [Documentary]|[Action, Adventur...|\n",
      "| 417|2366|0.0|   [Comedy, Romance]|[Action, Adventur...|\n",
      "|1473|2366|0.0|[Action, Comedy, ...|[Action, Adventur...|\n",
      "|2346|2366|0.0|  [Sci-Fi, Thriller]|[Action, Adventur...|\n",
      "|1240|2366|0.0|[Action, Sci-Fi, ...|[Action, Adventur...|\n",
      "|1119|2366|0.0|             [Drama]|[Action, Adventur...|\n",
      "|2205|2366|0.0|   [Comedy, Romance]|[Action, Adventur...|\n",
      "|1066|2366|0.0|[Comedy, Musical,...|[Action, Adventur...|\n",
      "| 648|2366|0.0|[Action, Adventur...|[Action, Adventur...|\n",
      "|1872|2366|0.0|             [Drama]|[Action, Adventur...|\n",
      "|1791|2366|0.0|[Crime, Drama, Th...|[Action, Adventur...|\n",
      "|2226|2366|0.0|             [Drama]|[Action, Adventur...|\n",
      "|  45|2366|0.0|[Comedy, Drama, T...|[Action, Adventur...|\n",
      "|1655|2366|0.0|[Drama, Horror, T...|[Action, Adventur...|\n",
      "| 889|2366|0.0|    [Drama, Romance]|[Action, Adventur...|\n",
      "|1409|2366|0.0|[Comedy, Drama, F...|[Action, Adventur...|\n",
      "|1327|2366|0.0|            [Horror]|[Action, Adventur...|\n",
      "+----+----+---+--------------------+--------------------+\n",
      "only showing top 20 rows\n",
      "\n"
     ]
    }
   ],
   "source": [
    "result.show()"
   ]
  },
  {
   "cell_type": "code",
   "execution_count": 17,
   "metadata": {},
   "outputs": [],
   "source": [
    "\n",
    "def genres_addition(x):\n",
    "    movie_id1 = x.id1\n",
    "    movie_id2 = x.id2\n",
    "    val = x.val\n",
    "    movie1_genres = x.g1\n",
    "    movie2_genres = x.g2\n",
    "    if movie1_genres is not None and movie2_genres is not None:\n",
    "        intersection_size = len(list(set(movie1_genres) & set(movie2_genres)))\n",
    "        union_size = len(list(set(movie1_genres) | set(movie2_genres)))\n",
    "        if union_size!=0:\n",
    "            genre_ratio = float(intersection_size)/union_size\n",
    "        else:\n",
    "            genre_ratio=0\n",
    "        val = val + 0.2*genre_ratio\n",
    "        \n",
    "    return (movie_id1, movie_id2, val, movie1_genres, movie2_genres)"
   ]
  },
  {
   "cell_type": "code",
   "execution_count": 18,
   "metadata": {},
   "outputs": [],
   "source": [
    "rdd2=result.rdd.map(lambda x: genres_addition(x))\n",
    "# rdd2=df.rdd.map(lambda x: \n",
    "#     (x[0]+\",\"+x[1],x[2],x[3]*2)\n",
    "#     )  \n",
    "result_genre=rdd2.toDF([\"id1\",\"id2\",\"val\", \"g1\", \"g2\"]   )\n",
    "result_genre = result_genre.drop(\"g1\", \"g2\")\n",
    "# result_genre.show()\n"
   ]
  },
  {
   "cell_type": "code",
   "execution_count": 19,
   "metadata": {},
   "outputs": [
    {
     "name": "stdout",
     "output_type": "stream",
     "text": [
      "+----+----+-------------------+\n",
      "| id1| id2|                val|\n",
      "+----+----+-------------------+\n",
      "|1483|2366|                0.0|\n",
      "|1133|2366|                0.0|\n",
      "|1889|2366|                0.0|\n",
      "|2323|2366|                0.0|\n",
      "| 417|2366|                0.0|\n",
      "|1473|2366|0.03333333333333333|\n",
      "|2346|2366|                0.0|\n",
      "|1240|2366|0.04000000000000001|\n",
      "|1119|2366|                0.0|\n",
      "|2205|2366|                0.0|\n",
      "|1066|2366|                0.0|\n",
      "| 648|2366|0.08000000000000002|\n",
      "|1872|2366|                0.0|\n",
      "|1791|2366|                0.0|\n",
      "|2226|2366|                0.0|\n",
      "|  45|2366|                0.0|\n",
      "|1655|2366|0.04000000000000001|\n",
      "| 889|2366|                0.0|\n",
      "|1409|2366|                0.0|\n",
      "|1327|2366|0.06666666666666667|\n",
      "+----+----+-------------------+\n",
      "only showing top 20 rows\n",
      "\n"
     ]
    }
   ],
   "source": [
    "result_genre.show()"
   ]
  },
  {
   "cell_type": "code",
   "execution_count": 20,
   "metadata": {},
   "outputs": [],
   "source": [
    "actors = actors.withColumn(\"ranking\", actors[\"ranking\"].cast(IntegerType()))\n",
    "\n",
    "actors = actors.sort(\"movieID\", \"ranking\")\n",
    "actors = actors.drop(\"ranking\", \"actorName\")\n",
    "actors = actors.groupBy(actors.movieID).agg(F.collect_list('actorID').alias('actorID'))"
   ]
  },
  {
   "cell_type": "code",
   "execution_count": 21,
   "metadata": {},
   "outputs": [],
   "source": [
    "result_temp_actor = result_genre.join(actors, result_genre.id1 == actors.movieID, how='left')\\\n",
    ".withColumnRenamed(\"actorID\", \"a1\")\n",
    "result_temp_actor = result_temp_actor.drop(result_temp_actor.movieID)\n",
    "result_temp_actor = result_temp_actor.join(actors, result_temp_actor.id2 == actors.movieID, how='left')\\\n",
    ".withColumnRenamed(\"actorID\", \"a2\")\n",
    "result_temp_actor = result_temp_actor.drop(result_temp_actor.movieID)\n",
    "# result_temp_actor.show()"
   ]
  },
  {
   "cell_type": "code",
   "execution_count": 22,
   "metadata": {},
   "outputs": [],
   "source": [
    "def actors_addition(x):\n",
    "    movie_id1 = x.id1\n",
    "    movie_id2 = x.id2\n",
    "    val = x.val\n",
    "    movie1_actors = x.a1\n",
    "    \n",
    "    movie2_actors = x.a2\n",
    "    \n",
    "    if movie1_actors is not None and movie2_actors is not None:\n",
    "        movie1_actors = movie1_actors[:3]\n",
    "        movie2_actors = movie2_actors[:3]\n",
    "        intersection_size = len(list(set(movie1_actors) & set(movie2_actors)))\n",
    "        union_size = len(list(set(movie1_actors) | set(movie2_actors)))\n",
    "        if union_size!=0:\n",
    "            actor_ratio = float(intersection_size)/union_size\n",
    "        else:\n",
    "            actor_ratio=0\n",
    "        val = val + 0.2*actor_ratio\n",
    "    return (movie_id1, movie_id2, val, movie1_actors, movie2_actors)"
   ]
  },
  {
   "cell_type": "code",
   "execution_count": 23,
   "metadata": {},
   "outputs": [
    {
     "name": "stdout",
     "output_type": "stream",
     "text": [
      "+-----+-----+-------------------+\n",
      "|  id1|  id2|                val|\n",
      "+-----+-----+-------------------+\n",
      "| 3280|45726|                0.0|\n",
      "| 5418|45726|                0.0|\n",
      "|25999|45726|                0.0|\n",
      "| 1409|45726|               0.05|\n",
      "| 3937|45726|                0.0|\n",
      "| 6287|45726|                0.2|\n",
      "| 8360|45726|0.03333333333333333|\n",
      "|30707|45726|                0.0|\n",
      "| 5888|45726|                0.0|\n",
      "| 7032|45726|                0.0|\n",
      "| 8977|45726|                0.0|\n",
      "| 7139|45726|                0.0|\n",
      "| 4220|45726|                0.2|\n",
      "| 5364|45726|                0.0|\n",
      "| 7325|45726|0.10666666666666667|\n",
      "| 8965|45726|                0.0|\n",
      "|32988|45726|                0.0|\n",
      "|31685|45726|                0.1|\n",
      "| 8907|45726|0.06666666666666667|\n",
      "| 5400|45726|                0.0|\n",
      "+-----+-----+-------------------+\n",
      "only showing top 20 rows\n",
      "\n"
     ]
    }
   ],
   "source": [
    "rdd_actor=result_temp_actor.rdd.map(lambda x: actors_addition(x))\n",
    "# rdd2=df.rdd.map(lambda x: \n",
    "#     (x[0]+\",\"+x[1],x[2],x[3]*2)\n",
    "#     )  \n",
    "result_actor=rdd_actor.toDF([\"id1\",\"id2\",\"val\", \"a1\", \"a2\"]   )\n",
    "result_actor = result_actor.drop(\"a1\", \"a2\")\n",
    "result_actor.show()"
   ]
  },
  {
   "cell_type": "code",
   "execution_count": 24,
   "metadata": {},
   "outputs": [
    {
     "name": "stdout",
     "output_type": "stream",
     "text": [
      "+-----+-----+-------------------+-------+---+\n",
      "|  id1|  id2|                val|     c1| c2|\n",
      "+-----+-----+-------------------+-------+---+\n",
      "| 3280|45726|                0.0|    USA|USA|\n",
      "| 5418|45726|                0.0|    USA|USA|\n",
      "|25999|45726|                0.0|    USA|USA|\n",
      "| 1409|45726|               0.05|    USA|USA|\n",
      "| 3937|45726|                0.0|    USA|USA|\n",
      "| 6287|45726|                0.2|    USA|USA|\n",
      "| 8360|45726|0.03333333333333333|    USA|USA|\n",
      "|30707|45726|                0.0|    USA|USA|\n",
      "| 5888|45726|                0.0|    USA|USA|\n",
      "| 7032|45726|                0.0|    USA|USA|\n",
      "| 8977|45726|                0.0|Germany|USA|\n",
      "| 7139|45726|                0.0|Ireland|USA|\n",
      "| 4220|45726|                0.2|    USA|USA|\n",
      "| 5364|45726|                0.0|    USA|USA|\n",
      "| 7325|45726|0.10666666666666667|    USA|USA|\n",
      "| 8965|45726|                0.0|    USA|USA|\n",
      "|32988|45726|                0.0|    USA|USA|\n",
      "|31685|45726|                0.1|    USA|USA|\n",
      "| 8907|45726|0.06666666666666667|    USA|USA|\n",
      "| 5400|45726|                0.0|    USA|USA|\n",
      "+-----+-----+-------------------+-------+---+\n",
      "only showing top 20 rows\n",
      "\n"
     ]
    }
   ],
   "source": [
    "result_temp_country = result_actor.join(countries, result_actor.id1 == countries.movieID, how='left')\\\n",
    ".withColumnRenamed(\"country\", \"c1\")\n",
    "result_temp_country = result_temp_country.drop(result_temp_country.movieID)\n",
    "result_temp_country = result_temp_country.join(countries, result_temp_country.id2 == countries.movieID, how='left')\\\n",
    ".withColumnRenamed(\"country\", \"c2\")\n",
    "result_temp_country = result_temp_country.drop(result_temp_country.movieID)\n",
    "result_temp_country.show()"
   ]
  },
  {
   "cell_type": "code",
   "execution_count": 25,
   "metadata": {},
   "outputs": [],
   "source": [
    "def equality_addition(x, l):\n",
    "    movie_id1 = x.id1\n",
    "    movie_id2 = x.id2\n",
    "    val = x.val\n",
    "    movie1_att = x.c1\n",
    "    movie2_att = x.c2\n",
    "    if movie1_att is not None and movie2_att is not None:\n",
    "        if movie1_att==movie2_att:\n",
    "            val = val + l\n",
    "    return (movie_id1, movie_id2, val, movie1_att, movie2_att)"
   ]
  },
  {
   "cell_type": "code",
   "execution_count": 26,
   "metadata": {},
   "outputs": [
    {
     "name": "stdout",
     "output_type": "stream",
     "text": [
      "+-----+-----+-------------------+\n",
      "|  id1|  id2|                val|\n",
      "+-----+-----+-------------------+\n",
      "| 3280|45726|               0.05|\n",
      "| 5418|45726|               0.05|\n",
      "|25999|45726|               0.05|\n",
      "| 1409|45726|                0.1|\n",
      "| 3937|45726|               0.05|\n",
      "| 6287|45726|               0.25|\n",
      "| 8360|45726|0.08333333333333334|\n",
      "|30707|45726|               0.05|\n",
      "| 5888|45726|               0.05|\n",
      "| 7032|45726|               0.05|\n",
      "| 8977|45726|                0.0|\n",
      "| 7139|45726|                0.0|\n",
      "| 4220|45726|               0.25|\n",
      "| 5364|45726|               0.05|\n",
      "| 7325|45726|0.15666666666666668|\n",
      "| 8965|45726|               0.05|\n",
      "|32988|45726|               0.05|\n",
      "|31685|45726|0.15000000000000002|\n",
      "| 8907|45726|0.11666666666666667|\n",
      "| 5400|45726|               0.05|\n",
      "+-----+-----+-------------------+\n",
      "only showing top 20 rows\n",
      "\n"
     ]
    }
   ],
   "source": [
    "rdd_country=result_temp_country.rdd.map(lambda x: equality_addition(x, 0.05))\n",
    "# rdd2=df.rdd.map(lambda x: \n",
    "#     (x[0]+\",\"+x[1],x[2],x[3]*2)\n",
    "#     )  \n",
    "result_country=rdd_country.toDF([\"id1\",\"id2\",\"val\", \"c1\", \"c2\"]   )\n",
    "result_country = result_country.drop(\"c1\", \"c2\")\n",
    "result_country.show()"
   ]
  },
  {
   "cell_type": "code",
   "execution_count": 27,
   "metadata": {},
   "outputs": [],
   "source": [
    "directors = directors.drop(directors.directorName)"
   ]
  },
  {
   "cell_type": "code",
   "execution_count": 28,
   "metadata": {},
   "outputs": [
    {
     "name": "stdout",
     "output_type": "stream",
     "text": [
      "+-----+-----+-------------------+--------------------+-------------+\n",
      "|  id1|  id2|                val|                  c1|           c2|\n",
      "+-----+-----+-------------------+--------------------+-------------+\n",
      "| 3280|45726|               0.05|         ben_affleck|anthony_russo|\n",
      "| 5418|45726|               0.05|          doug_liman|anthony_russo|\n",
      "|25999|45726|               0.05|           sean_penn|anthony_russo|\n",
      "| 1409|45726|                0.1|         tony_gilroy|anthony_russo|\n",
      "| 3937|45726|               0.05|         gary_fleder|anthony_russo|\n",
      "| 6287|45726|               0.25|         peter_segal|anthony_russo|\n",
      "| 8360|45726|0.08333333333333334|        kelly_asbury|anthony_russo|\n",
      "|30707|45726|               0.05|      clint_eastwood|anthony_russo|\n",
      "| 5888|45726|               0.05|       larry_charles|anthony_russo|\n",
      "| 7032|45726|               0.05|        george_lucas|anthony_russo|\n",
      "| 8977|45726|                0.0|        oliver_stone|anthony_russo|\n",
      "| 7139|45726|                0.0|        jim_sheridan|anthony_russo|\n",
      "| 4220|45726|               0.25|         peter_segal|anthony_russo|\n",
      "| 5364|45726|               0.05|         adrian_lyne|anthony_russo|\n",
      "| 7325|45726|0.15666666666666668|1045105-todd_phil...|anthony_russo|\n",
      "| 8965|45726|               0.05|     robert_zemeckis|anthony_russo|\n",
      "|32988|45726|               0.05|     christine_jeffs|anthony_russo|\n",
      "|31685|45726|0.15000000000000002|        andy_tennant|anthony_russo|\n",
      "| 8907|45726|0.11666666666666667|       bibo_bergeron|anthony_russo|\n",
      "| 5400|45726|               0.05| phil_alden_robinson|anthony_russo|\n",
      "+-----+-----+-------------------+--------------------+-------------+\n",
      "only showing top 20 rows\n",
      "\n"
     ]
    }
   ],
   "source": [
    "result_temp_director = result_country.join(directors, result_country.id1 == directors.movieID, how='left')\\\n",
    ".withColumnRenamed(\"directorID\", \"c1\")\n",
    "result_temp_director = result_temp_director.drop(result_temp_director.movieID)\n",
    "result_temp_director = result_temp_director.join(directors, result_temp_director.id2 == directors.movieID, how='left')\\\n",
    ".withColumnRenamed(\"directorID\", \"c2\")\n",
    "result_temp_director = result_temp_director.drop(result_temp_director.movieID)\n",
    "result_temp_director.show()"
   ]
  },
  {
   "cell_type": "code",
   "execution_count": 29,
   "metadata": {},
   "outputs": [
    {
     "name": "stdout",
     "output_type": "stream",
     "text": [
      "+-----+-----+-------------------+\n",
      "|  id1|  id2|                val|\n",
      "+-----+-----+-------------------+\n",
      "| 3280|45726|               0.05|\n",
      "| 5418|45726|               0.05|\n",
      "|25999|45726|               0.05|\n",
      "| 1409|45726|                0.1|\n",
      "| 3937|45726|               0.05|\n",
      "| 6287|45726|               0.25|\n",
      "| 8360|45726|0.08333333333333334|\n",
      "|30707|45726|               0.05|\n",
      "| 5888|45726|               0.05|\n",
      "| 7032|45726|               0.05|\n",
      "| 8977|45726|                0.0|\n",
      "| 7139|45726|                0.0|\n",
      "| 4220|45726|               0.25|\n",
      "| 5364|45726|               0.05|\n",
      "| 7325|45726|0.15666666666666668|\n",
      "| 8965|45726|               0.05|\n",
      "|32988|45726|               0.05|\n",
      "|31685|45726|0.15000000000000002|\n",
      "| 8907|45726|0.11666666666666667|\n",
      "| 5400|45726|               0.05|\n",
      "+-----+-----+-------------------+\n",
      "only showing top 20 rows\n",
      "\n"
     ]
    }
   ],
   "source": [
    "rdd_director=result_temp_director.rdd.map(lambda x: equality_addition(x, 0.15))\n",
    "# rdd2=df.rdd.map(lambda x: \n",
    "#     (x[0]+\",\"+x[1],x[2],x[3]*2)\n",
    "#     )  \n",
    "result_director=rdd_director.toDF([\"id1\",\"id2\",\"val\", \"c1\", \"c2\"]   )\n",
    "result_director = result_director.drop(\"c1\", \"c2\")\n",
    "result_director.show()"
   ]
  },
  {
   "cell_type": "code",
   "execution_count": 30,
   "metadata": {},
   "outputs": [],
   "source": [
    "result_temp_movie = result_director.join(movies, result_director.id1 == movies.id, how='left')\\\n",
    ".withColumnRenamed(\"year\", \"y1\").withColumnRenamed(\"rtAllCriticsRating\", 't1')\\\n",
    ".withColumnRenamed(\"rtTopCriticsRating\", \"p1\").withColumnRenamed(\"rtAudienceRating\", 'a1')\n",
    "result_temp_movie = result_temp_movie.drop('id','title')\n",
    "result_temp_movie = result_temp_movie.join(movies, result_temp_movie.id2 == movies.id, how='left')\\\n",
    ".withColumnRenamed(\"year\", \"y2\").withColumnRenamed(\"rtAllCriticsRating\", 't2')\\\n",
    ".withColumnRenamed(\"rtTopCriticsRating\", \"p2\").withColumnRenamed(\"rtAudienceRating\", 'a2')\n",
    "result_temp_movie = result_temp_movie.drop('id', 'title')\n",
    "# result_temp_movie.show()"
   ]
  },
  {
   "cell_type": "code",
   "execution_count": 31,
   "metadata": {},
   "outputs": [],
   "source": [
    "def movies_addition(x):\n",
    "    movie_id1 = x.id1\n",
    "    movie_id2 = x.id2\n",
    "    val = x.val\n",
    "    movie1_y = int(x.y1)\n",
    "    movie1_t = float(x.t1)\n",
    "    movie1_p = float(x.p1)\n",
    "    movie1_a = float(x.a1)\n",
    "    \n",
    "    movie2_y = int(x.y2)\n",
    "    movie2_t = float(x.t2)\n",
    "    movie2_p = float(x.p2)\n",
    "    movie2_a = float(x.a2)\n",
    "    \n",
    "    if movie1_y is not None and movie2_y is not None:\n",
    "        year_diff = abs(movie1_y - movie2_y)\n",
    "        if year_diff <= 2:\n",
    "            val = val + 0.05\n",
    "        elif year_diff <=5:\n",
    "            val = val + 0.05*0.7\n",
    "        elif year_diff <= 7:\n",
    "            val = val + 0.05*0.5\n",
    "    t_ratio=0\n",
    "    p_ratio=0\n",
    "    a_ratio=0\n",
    "    if movie1_t is not None and movie2_t is not None:\n",
    "        if max(movie1_t, movie2_t) !=0:\n",
    "            t_ratio = min(movie1_t, movie2_t)/max(movie1_t, movie2_t)\n",
    "    \n",
    "    if movie1_p is not None and movie2_p is not None:\n",
    "        if max(movie1_p, movie2_p)!=0:\n",
    "            p_ratio = min(movie1_p, movie2_p)/max(movie1_p, movie2_p)\n",
    "\n",
    "    if movie1_a is not None and movie2_a is not None:        \n",
    "        if max(movie1_a, movie2_a)!=0:\n",
    "            a_ratio = min(movie1_a, movie2_a)/max(movie1_a, movie2_a)\n",
    "\n",
    "    total_ratio = (1.0/3)*t_ratio+(1.0/3)*p_ratio+(1.0/3)*a_ratio \n",
    "    val = val + 0.2*total_ratio\n",
    "    \n",
    "    return (movie_id1, movie_id2, val, movie1_y, movie1_t, movie1_p, movie1_a,\\\n",
    "           movie2_y, movie2_t, movie2_p, movie2_a)"
   ]
  },
  {
   "cell_type": "code",
   "execution_count": 32,
   "metadata": {},
   "outputs": [],
   "source": [
    "rdd_movie=result_temp_movie.rdd.map(lambda x: movies_addition(x))\n",
    "# rdd2=df.rdd.map(lambda x: \n",
    "#     (x[0]+\",\"+x[1],x[2],x[3]*2)\n",
    "#     )  \n",
    "result_movie=rdd_movie.toDF([\"id1\",\"id2\",\"val\", \"y1\", \"t1\", \"p1\", \"a1\"\\\n",
    "                             , \"y2\", \"t2\", \"p2\", \"a2\"]   )\n",
    "result_movie = result_movie.drop(\"y1\", \"t1\", \"p1\", \"a1\"\\\n",
    "                             , \"y2\", \"t2\", \"p2\", \"a2\")\n",
    "# result_movie.show()"
   ]
  },
  {
   "cell_type": "code",
   "execution_count": 33,
   "metadata": {},
   "outputs": [],
   "source": [
    "ratings = ratings.drop('timestamp')"
   ]
  },
  {
   "cell_type": "code",
   "execution_count": 34,
   "metadata": {},
   "outputs": [],
   "source": [
    "ratings = ratings.withColumn(\"userID\", ratings[\"userID\"].cast(IntegerType()))\n",
    "ratings = ratings.withColumn(\"movieID\", ratings[\"movieID\"].cast(IntegerType()))\n",
    "ratings = ratings.withColumn(\"rating\", ratings[\"rating\"].cast(DoubleType()))"
   ]
  },
  {
   "cell_type": "code",
   "execution_count": 35,
   "metadata": {},
   "outputs": [],
   "source": [
    "ratings_temp = ratings.groupby(ratings.movieID).agg(F.collect_list('userID').alias('userID')\\\n",
    "                                     , F.collect_list('rating').alias('rating'))"
   ]
  },
  {
   "cell_type": "code",
   "execution_count": 36,
   "metadata": {},
   "outputs": [],
   "source": [
    "result_temp_sim = result_movie.join(ratings_temp, result_movie.id1 == ratings_temp.movieID, how='left')\\\n",
    ".withColumnRenamed(\"userID\", \"u1\").withColumnRenamed(\"rating\", 'r1')\n",
    "result_temp_sim = result_temp_sim.drop('movieID')\n",
    "result_temp_sim = result_temp_sim.join(ratings_temp, result_temp_sim.id2 == ratings_temp.movieID, how='left')\\\n",
    ".withColumnRenamed(\"userID\", \"u2\").withColumnRenamed(\"rating\", 'r2')\n",
    "result_temp_sim = result_temp_sim.drop('movieID')\n",
    "# result_temp_sim.show()"
   ]
  },
  {
   "cell_type": "code",
   "execution_count": 37,
   "metadata": {},
   "outputs": [],
   "source": [
    "def sim_addition(z):\n",
    "    movie_id1 = z.id1\n",
    "    movie_id2 = z.id2\n",
    "    val = z.val\n",
    "    u1 = z.u1\n",
    "    u2 = z.u2\n",
    "    r1 = z.r1\n",
    "    r2 = z.r2\n",
    "    if u1 is not None and u2 is not None:\n",
    "        both = list(set(u1) & set(u2))\n",
    "        indices_u1 = [u1.index(x) for x in both]\n",
    "        indices_u2 = [u2.index(x) for x in both]\n",
    "        if len(indices_u1) != 0:\n",
    "            v1 = [r1[i] for i in indices_u1]\n",
    "            v2 = [r2[i] for i in indices_u2]\n",
    "            sim = sum([x*y for x,y in zip(v1,v2)])/(math.sqrt(sum(i**2 for i in v1))\\\n",
    "                                                    *math.sqrt(sum(i**2 for i in v2)))\n",
    "            val = val+sim*0.2\n",
    "    \n",
    "    return (movie_id1, movie_id2, val)"
   ]
  },
  {
   "cell_type": "code",
   "execution_count": 38,
   "metadata": {},
   "outputs": [],
   "source": [
    "rdd_sim=result_temp_sim.rdd.map(lambda x: sim_addition(x)) \n",
    "result_sim=rdd_sim.toDF([\"id1\",\"id2\",\"val\"])\n",
    "#result_sim = result_sim.drop(\"u1\", \"r1\", \"u2\", \"r2\")\n",
    "\n",
    "# result_sim.show()"
   ]
  },
  {
   "cell_type": "code",
   "execution_count": 41,
   "metadata": {},
   "outputs": [],
   "source": [
    "result_sim.registerTempTable(\"sim\")"
   ]
  },
  {
   "cell_type": "code",
   "execution_count": 42,
   "metadata": {},
   "outputs": [],
   "source": [
    "ratings.registerTempTable(\"ratings\")\n",
    "movies.registerTempTable(\"movies\")\n",
    "\n"
   ]
  },
  {
   "cell_type": "code",
   "execution_count": 98,
   "metadata": {},
   "outputs": [],
   "source": [
    "userID = 622"
   ]
  },
  {
   "cell_type": "code",
   "execution_count": 99,
   "metadata": {},
   "outputs": [],
   "source": [
    "user = sqlContext.sql(\"SELECT m.movieID, m.rating FROM ratings m \"+\n",
    "            \"where userID = \"+str(userID))\n",
    "user.registerTempTable(\"user\")"
   ]
  },
  {
   "cell_type": "code",
   "execution_count": 100,
   "metadata": {},
   "outputs": [],
   "source": [
    "not_watched = sqlContext.sql(\"select m.id as id from movies m left join user u on u.movieID = m.id \"+\n",
    "              \"where u.movieID IS NULL order by m.id\")\n",
    "not_watched.registerTempTable(\"not_watched\")"
   ]
  },
  {
   "cell_type": "code",
   "execution_count": 101,
   "metadata": {},
   "outputs": [],
   "source": [
    "user = sqlContext.sql(\"select * from user u, not_watched nw \")"
   ]
  },
  {
   "cell_type": "code",
   "execution_count": 102,
   "metadata": {},
   "outputs": [],
   "source": [
    "user = user.withColumn(\"id\", user[\"id\"].cast(IntegerType()))\n",
    "user.registerTempTable(\"user\")\n",
    "result_sim = result_sim.withColumn(\"id1\", result_sim[\"id1\"].cast(IntegerType()))\n",
    "result_sim = result_sim.withColumn(\"id2\", result_sim[\"id2\"].cast(IntegerType()))"
   ]
  },
  {
   "cell_type": "code",
   "execution_count": 103,
   "metadata": {},
   "outputs": [],
   "source": [
    "temp = sqlContext.sql(\"select u.movieID, u.rating, s.val as val1, u.id from user u left join sim s on s.id1 = u.id \"+\n",
    "            \"and u.movieID = s.id2\")\n",
    "temp.registerTempTable(\"temp\")\n",
    "# temp = user.join(result_sim, (user.id == result_sim.id1) \\\n",
    "#         , how='left')\n",
    "# temp.show()"
   ]
  },
  {
   "cell_type": "code",
   "execution_count": 104,
   "metadata": {},
   "outputs": [],
   "source": [
    "result_final_join =  sqlContext.sql(\"select u.movieID, u.rating,u.val1 ,s.val as val2, u.id from temp u left join sim s on s.id2 = u.id \"+\n",
    "            \"and u.movieID = s.id1\")\n",
    "result_final_join.registerTempTable(\"result_final_join\")"
   ]
  },
  {
   "cell_type": "code",
   "execution_count": 105,
   "metadata": {},
   "outputs": [],
   "source": [
    "result_join = sqlContext.sql(\"select movieID as watched, rating, \"\n",
    "                             +\" CASE WHEN val1 is null  THEN val2  ELSE val1 END AS val , id as notWatched \"+\n",
    "                               \" from result_final_join\" )\n",
    "result_join.registerTempTable(\"result_join\")"
   ]
  },
  {
   "cell_type": "code",
   "execution_count": 106,
   "metadata": {},
   "outputs": [],
   "source": [
    "# result_join.registerTempTable(\"result_join\")"
   ]
  },
  {
   "cell_type": "code",
   "execution_count": 107,
   "metadata": {},
   "outputs": [],
   "source": [
    "result_intermediate = sqlContext.sql(\"select notWatched, sum(rating*val) as num, sum(val) as dem from result_join\" +\n",
    "                                     \" group by notWatched\")\n",
    "result_intermediate.registerTempTable(\"result_intermediate\")"
   ]
  },
  {
   "cell_type": "code",
   "execution_count": 108,
   "metadata": {},
   "outputs": [],
   "source": [
    "final = sqlContext.sql(\"select notWatched, (num/dem) as rating from result_intermediate order by  rating desc\")\n",
    "final.registerTempTable(\"final\")"
   ]
  },
  {
   "cell_type": "code",
   "execution_count": 109,
   "metadata": {},
   "outputs": [
    {
     "data": {
      "text/html": [
       "<div>\n",
       "<style scoped>\n",
       "    .dataframe tbody tr th:only-of-type {\n",
       "        vertical-align: middle;\n",
       "    }\n",
       "\n",
       "    .dataframe tbody tr th {\n",
       "        vertical-align: top;\n",
       "    }\n",
       "\n",
       "    .dataframe thead th {\n",
       "        text-align: right;\n",
       "    }\n",
       "</style>\n",
       "<table border=\"1\" class=\"dataframe\">\n",
       "  <thead>\n",
       "    <tr style=\"text-align: right;\">\n",
       "      <th></th>\n",
       "      <th>title</th>\n",
       "    </tr>\n",
       "  </thead>\n",
       "  <tbody>\n",
       "    <tr>\n",
       "      <th>0</th>\n",
       "      <td>Terminator Salvation</td>\n",
       "    </tr>\n",
       "    <tr>\n",
       "      <th>1</th>\n",
       "      <td>War of the Worlds</td>\n",
       "    </tr>\n",
       "    <tr>\n",
       "      <th>2</th>\n",
       "      <td>American Beauty</td>\n",
       "    </tr>\n",
       "    <tr>\n",
       "      <th>3</th>\n",
       "      <td>Shrek</td>\n",
       "    </tr>\n",
       "    <tr>\n",
       "      <th>4</th>\n",
       "      <td>The Lord of the Rings: The Fellowship of the Ring</td>\n",
       "    </tr>\n",
       "    <tr>\n",
       "      <th>5</th>\n",
       "      <td>The Bourne Identity</td>\n",
       "    </tr>\n",
       "    <tr>\n",
       "      <th>6</th>\n",
       "      <td>Minority Report</td>\n",
       "    </tr>\n",
       "    <tr>\n",
       "      <th>7</th>\n",
       "      <td>Red Dragon</td>\n",
       "    </tr>\n",
       "    <tr>\n",
       "      <th>8</th>\n",
       "      <td>The Lord of the Rings: The Two Towers</td>\n",
       "    </tr>\n",
       "    <tr>\n",
       "      <th>9</th>\n",
       "      <td>Catch Me If You Can</td>\n",
       "    </tr>\n",
       "    <tr>\n",
       "      <th>10</th>\n",
       "      <td>The Matrix Reloaded</td>\n",
       "    </tr>\n",
       "    <tr>\n",
       "      <th>11</th>\n",
       "      <td>The Matrix Revolutions</td>\n",
       "    </tr>\n",
       "    <tr>\n",
       "      <th>12</th>\n",
       "      <td>Big Fish</td>\n",
       "    </tr>\n",
       "    <tr>\n",
       "      <th>13</th>\n",
       "      <td>50 First Dates</td>\n",
       "    </tr>\n",
       "    <tr>\n",
       "      <th>14</th>\n",
       "      <td>Eternal Sunshine of the Spotless Mind</td>\n",
       "    </tr>\n",
       "    <tr>\n",
       "      <th>15</th>\n",
       "      <td>Fahrenheit 9/11</td>\n",
       "    </tr>\n",
       "    <tr>\n",
       "      <th>16</th>\n",
       "      <td>The Bourne Supremacy</td>\n",
       "    </tr>\n",
       "    <tr>\n",
       "      <th>17</th>\n",
       "      <td>Saw</td>\n",
       "    </tr>\n",
       "    <tr>\n",
       "      <th>18</th>\n",
       "      <td>Ocean's Twelve</td>\n",
       "    </tr>\n",
       "    <tr>\n",
       "      <th>19</th>\n",
       "      <td>Serenity</td>\n",
       "    </tr>\n",
       "    <tr>\n",
       "      <th>20</th>\n",
       "      <td>Stranger Than Fiction</td>\n",
       "    </tr>\n",
       "    <tr>\n",
       "      <th>21</th>\n",
       "      <td>The Illusionist</td>\n",
       "    </tr>\n",
       "    <tr>\n",
       "      <th>22</th>\n",
       "      <td>The Fountain</td>\n",
       "    </tr>\n",
       "    <tr>\n",
       "      <th>23</th>\n",
       "      <td>Mr. Brooks</td>\n",
       "    </tr>\n",
       "    <tr>\n",
       "      <th>24</th>\n",
       "      <td>Stardust</td>\n",
       "    </tr>\n",
       "    <tr>\n",
       "      <th>25</th>\n",
       "      <td>The Bourne Ultimatum</td>\n",
       "    </tr>\n",
       "    <tr>\n",
       "      <th>26</th>\n",
       "      <td>The Golden Compass</td>\n",
       "    </tr>\n",
       "    <tr>\n",
       "      <th>27</th>\n",
       "      <td>Charlie Wilson's War</td>\n",
       "    </tr>\n",
       "    <tr>\n",
       "      <th>28</th>\n",
       "      <td>Hellboy II: The Golden Army</td>\n",
       "    </tr>\n",
       "    <tr>\n",
       "      <th>29</th>\n",
       "      <td>Jumper</td>\n",
       "    </tr>\n",
       "    <tr>\n",
       "      <th>30</th>\n",
       "      <td>The Dark Knight</td>\n",
       "    </tr>\n",
       "    <tr>\n",
       "      <th>31</th>\n",
       "      <td>You Don't Mess with the Zohan</td>\n",
       "    </tr>\n",
       "    <tr>\n",
       "      <th>32</th>\n",
       "      <td>WALL·E</td>\n",
       "    </tr>\n",
       "    <tr>\n",
       "      <th>33</th>\n",
       "      <td>Wanted</td>\n",
       "    </tr>\n",
       "    <tr>\n",
       "      <th>34</th>\n",
       "      <td>Hancock</td>\n",
       "    </tr>\n",
       "  </tbody>\n",
       "</table>\n",
       "</div>"
      ],
      "text/plain": [
       "                                                title\n",
       "0                                Terminator Salvation\n",
       "1                                   War of the Worlds\n",
       "2                                     American Beauty\n",
       "3                                               Shrek\n",
       "4   The Lord of the Rings: The Fellowship of the Ring\n",
       "5                                 The Bourne Identity\n",
       "6                                     Minority Report\n",
       "7                                          Red Dragon\n",
       "8               The Lord of the Rings: The Two Towers\n",
       "9                                 Catch Me If You Can\n",
       "10                                The Matrix Reloaded\n",
       "11                             The Matrix Revolutions\n",
       "12                                           Big Fish\n",
       "13                                     50 First Dates\n",
       "14              Eternal Sunshine of the Spotless Mind\n",
       "15                                    Fahrenheit 9/11\n",
       "16                               The Bourne Supremacy\n",
       "17                                                Saw\n",
       "18                                     Ocean's Twelve\n",
       "19                                           Serenity\n",
       "20                              Stranger Than Fiction\n",
       "21                                    The Illusionist\n",
       "22                                       The Fountain\n",
       "23                                         Mr. Brooks\n",
       "24                                           Stardust\n",
       "25                               The Bourne Ultimatum\n",
       "26                                 The Golden Compass\n",
       "27                               Charlie Wilson's War\n",
       "28                        Hellboy II: The Golden Army\n",
       "29                                             Jumper\n",
       "30                                    The Dark Knight\n",
       "31                      You Don't Mess with the Zohan\n",
       "32                                             WALL·E\n",
       "33                                             Wanted\n",
       "34                                            Hancock"
      ]
     },
     "execution_count": 109,
     "metadata": {},
     "output_type": "execute_result"
    }
   ],
   "source": [
    "sqlContext.sql(\"SELECT m.title FROM movies m join ratings r on m.id = r.movieID  where userID =\"+str(userID)).toPandas()"
   ]
  },
  {
   "cell_type": "code",
   "execution_count": 110,
   "metadata": {},
   "outputs": [
    {
     "data": {
      "text/html": [
       "<div>\n",
       "<style scoped>\n",
       "    .dataframe tbody tr th:only-of-type {\n",
       "        vertical-align: middle;\n",
       "    }\n",
       "\n",
       "    .dataframe tbody tr th {\n",
       "        vertical-align: top;\n",
       "    }\n",
       "\n",
       "    .dataframe thead th {\n",
       "        text-align: right;\n",
       "    }\n",
       "</style>\n",
       "<table border=\"1\" class=\"dataframe\">\n",
       "  <thead>\n",
       "    <tr style=\"text-align: right;\">\n",
       "      <th></th>\n",
       "      <th>suggested</th>\n",
       "    </tr>\n",
       "  </thead>\n",
       "  <tbody>\n",
       "    <tr>\n",
       "      <th>0</th>\n",
       "      <td>3:10 to Yuma</td>\n",
       "    </tr>\n",
       "    <tr>\n",
       "      <th>1</th>\n",
       "      <td>King Kong</td>\n",
       "    </tr>\n",
       "    <tr>\n",
       "      <th>2</th>\n",
       "      <td>Across the Universe</td>\n",
       "    </tr>\n",
       "    <tr>\n",
       "      <th>3</th>\n",
       "      <td>Crash</td>\n",
       "    </tr>\n",
       "    <tr>\n",
       "      <th>4</th>\n",
       "      <td>The Prestige</td>\n",
       "    </tr>\n",
       "    <tr>\n",
       "      <th>5</th>\n",
       "      <td>Sunshine Cleaning</td>\n",
       "    </tr>\n",
       "    <tr>\n",
       "      <th>6</th>\n",
       "      <td>Madagascar</td>\n",
       "    </tr>\n",
       "    <tr>\n",
       "      <th>7</th>\n",
       "      <td>Melinda and Melinda</td>\n",
       "    </tr>\n",
       "    <tr>\n",
       "      <th>8</th>\n",
       "      <td>The Number 23</td>\n",
       "    </tr>\n",
       "    <tr>\n",
       "      <th>9</th>\n",
       "      <td>Hidalgo</td>\n",
       "    </tr>\n",
       "  </tbody>\n",
       "</table>\n",
       "</div>"
      ],
      "text/plain": [
       "             suggested\n",
       "0         3:10 to Yuma\n",
       "1            King Kong\n",
       "2  Across the Universe\n",
       "3                Crash\n",
       "4         The Prestige\n",
       "5    Sunshine Cleaning\n",
       "6           Madagascar\n",
       "7  Melinda and Melinda\n",
       "8        The Number 23\n",
       "9              Hidalgo"
      ]
     },
     "execution_count": 110,
     "metadata": {},
     "output_type": "execute_result"
    }
   ],
   "source": [
    "sqlContext.sql(\"SELECT m.title as suggested FROM movies m join final f on m.id = f.notWatched \").limit(10).toPandas()"
   ]
  },
  {
   "cell_type": "code",
   "execution_count": null,
   "metadata": {},
   "outputs": [],
   "source": []
  }
 ],
 "metadata": {
  "kernelspec": {
   "display_name": "Python 3",
   "language": "python",
   "name": "python3"
  },
  "language_info": {
   "codemirror_mode": {
    "name": "ipython",
    "version": 3
   },
   "file_extension": ".py",
   "mimetype": "text/x-python",
   "name": "python",
   "nbconvert_exporter": "python",
   "pygments_lexer": "ipython3",
   "version": "3.7.3"
  }
 },
 "nbformat": 4,
 "nbformat_minor": 2
}
